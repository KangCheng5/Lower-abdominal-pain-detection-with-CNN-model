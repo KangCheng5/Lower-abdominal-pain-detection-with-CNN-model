{
 "cells": [
  {
   "cell_type": "markdown",
   "metadata": {},
   "source": [
    "## Tumor Detection (CNN)"
   ]
  },
  {
   "cell_type": "code",
   "execution_count": 1,
   "metadata": {},
   "outputs": [],
   "source": [
    "import zipfile\n",
    "import os\n",
    "import pandas as pd\n",
    "from tensorflow.keras.preprocessing.image import ImageDataGenerator\n",
    "import tensorflow.keras.backend as K\n",
    "K.clear_session()"
   ]
  },
  {
   "cell_type": "code",
   "execution_count": 2,
   "metadata": {},
   "outputs": [],
   "source": [
    "from tensorflow.keras import layers, models"
   ]
  },
  {
   "cell_type": "code",
   "execution_count": 3,
   "metadata": {},
   "outputs": [],
   "source": [
    "import tensorflow as tf"
   ]
  },
  {
   "cell_type": "markdown",
   "metadata": {},
   "source": [
    "### Step1: Data preperation"
   ]
  },
  {
   "cell_type": "code",
   "execution_count": 4,
   "metadata": {},
   "outputs": [],
   "source": [
    "# Read Excel\n",
    "labels_df = pd.read_excel(\"app_data.xlsx\")"
   ]
  },
  {
   "cell_type": "markdown",
   "metadata": {},
   "source": [
    "#### 1.1 Found empty label data rows, clean them."
   ]
  },
  {
   "cell_type": "code",
   "execution_count": 5,
   "metadata": {},
   "outputs": [
    {
     "name": "stdout",
     "output_type": "stream",
     "text": [
      "🧠 Unique patient IDs in Excel (cleaned): 759\n"
     ]
    }
   ],
   "source": [
    "\n",
    "# Clean the Diagnosis column\n",
    "labels_df['Diagnosis'] = labels_df['Diagnosis'].str.strip().str.lower()\n",
    "labels_df['label'] = labels_df['Diagnosis'].map({\n",
    "    'appendicitis': 1,\n",
    "    'not appendicitis': 0\n",
    "})\n",
    "\n",
    "# Drop rows missing US_Number or Diagnosis\n",
    "labels_df = labels_df.dropna(subset=['US_Number', 'Diagnosis'])\n",
    "\n",
    "# Clean US_Number to string (remove decimals, spaces)\n",
    "labels_df['US_Number'] = labels_df['US_Number'].astype(str).str.strip().str.split('.').str[0]\n",
    "\n",
    "# DEBUG: Check unique values\n",
    "print(\"🧠 Unique patient IDs in Excel (cleaned):\", labels_df['US_Number'].nunique())\n",
    "\n",
    "# Create label_dict\n",
    "label_dict = dict(zip(labels_df['US_Number'], labels_df['label']))"
   ]
  },
  {
   "cell_type": "markdown",
   "metadata": {},
   "source": [
    "#### 1.2 Found unmatching images, ignore them"
   ]
  },
  {
   "cell_type": "code",
   "execution_count": 6,
   "metadata": {},
   "outputs": [
    {
     "name": "stdout",
     "output_type": "stream",
     "text": [
      "🚨 Total unmatched: 756\n"
     ]
    }
   ],
   "source": [
    "image_folder = \"B_mode_ultrasound\"\n",
    "image_data = []\n",
    "unmatched = []\n",
    "\n",
    "for img_name in os.listdir(image_folder):\n",
    "    if img_name.endswith(('.png', '.bmp')):\n",
    "        patient_id = img_name.split('.')[0].strip()  # '123' from '123.1 blah.bmp'\n",
    "        label = label_dict.get(patient_id)\n",
    "\n",
    "        if label is None:\n",
    "            unmatched.append(patient_id)  # Collect for review\n",
    "\n",
    "        image_data.append({\n",
    "            \"image_path\": os.path.join(image_folder, img_name),\n",
    "            \"patient_id\": patient_id,\n",
    "            \"label\": label\n",
    "        })\n",
    "\n",
    "image_df = pd.DataFrame(image_data)\n",
    "\n",
    "# Save and review unmatched\n",
    "pd.Series(unmatched).value_counts().to_csv(\"unmatched_patient_ids.csv\")\n",
    "print(f\"🚨 Total unmatched: {len([l for l in image_df['label'] if pd.isna(l)])}\")\n"
   ]
  },
  {
   "cell_type": "code",
   "execution_count": 7,
   "metadata": {},
   "outputs": [
    {
     "name": "stdout",
     "output_type": "stream",
     "text": [
      "                                       image_path patient_id  label\n",
      "5                 B_mode_ultrasound/585.2 App.bmp        585    NaN\n",
      "6              B_mode_ultrasound/3.3 Appendix.png          3    NaN\n",
      "8                 B_mode_ultrasound/747.2 App.bmp        747    NaN\n",
      "11                   B_mode_ultrasound/102.11.bmp        102    NaN\n",
      "12              B_mode_ultrasound/412.1 App_M.bmp        412    NaN\n",
      "...                                           ...        ...    ...\n",
      "2081              B_mode_ultrasound/839.1 RLQ.bmp        839    NaN\n",
      "2083              B_mode_ultrasound/368.2 App.bmp        368    NaN\n",
      "2088              B_mode_ultrasound/824.5 App.bmp        824    NaN\n",
      "2091              B_mode_ultrasound/841.6 App.bmp        841    NaN\n",
      "2092  B_mode_ultrasound/736.1 RLQ app not vis.bmp        736    NaN\n",
      "\n",
      "[756 rows x 3 columns]\n"
     ]
    }
   ],
   "source": [
    "print(image_df[image_df['label'].isna()])"
   ]
  },
  {
   "cell_type": "code",
   "execution_count": 8,
   "metadata": {},
   "outputs": [],
   "source": [
    "matched_df = image_df[image_df['label'].notna()]\n",
    "matched_df.to_csv(\"final_labeled_ultrasound_images.csv\", index=False)\n"
   ]
  },
  {
   "cell_type": "code",
   "execution_count": 9,
   "metadata": {},
   "outputs": [
    {
     "data": {
      "text/html": [
       "<div>\n",
       "<style scoped>\n",
       "    .dataframe tbody tr th:only-of-type {\n",
       "        vertical-align: middle;\n",
       "    }\n",
       "\n",
       "    .dataframe tbody tr th {\n",
       "        vertical-align: top;\n",
       "    }\n",
       "\n",
       "    .dataframe thead th {\n",
       "        text-align: right;\n",
       "    }\n",
       "</style>\n",
       "<table border=\"1\" class=\"dataframe\">\n",
       "  <thead>\n",
       "    <tr style=\"text-align: right;\">\n",
       "      <th></th>\n",
       "      <th>image_path</th>\n",
       "      <th>patient_id</th>\n",
       "      <th>label</th>\n",
       "    </tr>\n",
       "  </thead>\n",
       "  <tbody>\n",
       "    <tr>\n",
       "      <th>0</th>\n",
       "      <td>B_mode_ultrasound/114.2 App_M.bmp</td>\n",
       "      <td>114</td>\n",
       "      <td>1.0</td>\n",
       "    </tr>\n",
       "    <tr>\n",
       "      <th>1</th>\n",
       "      <td>B_mode_ultrasound/189.6 App_M.bmp</td>\n",
       "      <td>189</td>\n",
       "      <td>1.0</td>\n",
       "    </tr>\n",
       "    <tr>\n",
       "      <th>2</th>\n",
       "      <td>B_mode_ultrasound/69.1 App T.bmp</td>\n",
       "      <td>69</td>\n",
       "      <td>1.0</td>\n",
       "    </tr>\n",
       "    <tr>\n",
       "      <th>3</th>\n",
       "      <td>B_mode_ultrasound/86.2 App T.bmp</td>\n",
       "      <td>86</td>\n",
       "      <td>1.0</td>\n",
       "    </tr>\n",
       "    <tr>\n",
       "      <th>4</th>\n",
       "      <td>B_mode_ultrasound/168.5 App.bmp</td>\n",
       "      <td>168</td>\n",
       "      <td>1.0</td>\n",
       "    </tr>\n",
       "    <tr>\n",
       "      <th>...</th>\n",
       "      <td>...</td>\n",
       "      <td>...</td>\n",
       "      <td>...</td>\n",
       "    </tr>\n",
       "    <tr>\n",
       "      <th>2087</th>\n",
       "      <td>B_mode_ultrasound/111.4 App_M.bmp</td>\n",
       "      <td>111</td>\n",
       "      <td>1.0</td>\n",
       "    </tr>\n",
       "    <tr>\n",
       "      <th>2089</th>\n",
       "      <td>B_mode_ultrasound/927.5 App_M.bmp</td>\n",
       "      <td>927</td>\n",
       "      <td>1.0</td>\n",
       "    </tr>\n",
       "    <tr>\n",
       "      <th>2090</th>\n",
       "      <td>B_mode_ultrasound/9.2 Appendix.bmp</td>\n",
       "      <td>9</td>\n",
       "      <td>1.0</td>\n",
       "    </tr>\n",
       "    <tr>\n",
       "      <th>2093</th>\n",
       "      <td>B_mode_ultrasound/488.3 App_M.bmp</td>\n",
       "      <td>488</td>\n",
       "      <td>1.0</td>\n",
       "    </tr>\n",
       "    <tr>\n",
       "      <th>2094</th>\n",
       "      <td>B_mode_ultrasound/189.1 App.bmp</td>\n",
       "      <td>189</td>\n",
       "      <td>1.0</td>\n",
       "    </tr>\n",
       "  </tbody>\n",
       "</table>\n",
       "<p>1339 rows × 3 columns</p>\n",
       "</div>"
      ],
      "text/plain": [
       "                              image_path patient_id  label\n",
       "0      B_mode_ultrasound/114.2 App_M.bmp        114    1.0\n",
       "1      B_mode_ultrasound/189.6 App_M.bmp        189    1.0\n",
       "2       B_mode_ultrasound/69.1 App T.bmp         69    1.0\n",
       "3       B_mode_ultrasound/86.2 App T.bmp         86    1.0\n",
       "4        B_mode_ultrasound/168.5 App.bmp        168    1.0\n",
       "...                                  ...        ...    ...\n",
       "2087   B_mode_ultrasound/111.4 App_M.bmp        111    1.0\n",
       "2089   B_mode_ultrasound/927.5 App_M.bmp        927    1.0\n",
       "2090  B_mode_ultrasound/9.2 Appendix.bmp          9    1.0\n",
       "2093   B_mode_ultrasound/488.3 App_M.bmp        488    1.0\n",
       "2094     B_mode_ultrasound/189.1 App.bmp        189    1.0\n",
       "\n",
       "[1339 rows x 3 columns]"
      ]
     },
     "execution_count": 9,
     "metadata": {},
     "output_type": "execute_result"
    }
   ],
   "source": [
    "matched_df"
   ]
  },
  {
   "cell_type": "markdown",
   "metadata": {},
   "source": [
    "#### 1.3 Train test split"
   ]
  },
  {
   "cell_type": "code",
   "execution_count": 10,
   "metadata": {},
   "outputs": [],
   "source": [
    "from sklearn.model_selection import train_test_split\n",
    "\n",
    "unique_patients = matched_df['patient_id'].unique()\n",
    "train_patients, test_patients = train_test_split(unique_patients, test_size=0.2, random_state=42)\n",
    "\n",
    "train_df = matched_df[matched_df['patient_id'].isin(train_patients)]\n",
    "val_df = matched_df[matched_df['patient_id'].isin(test_patients)]"
   ]
  },
  {
   "cell_type": "code",
   "execution_count": 11,
   "metadata": {},
   "outputs": [],
   "source": [
    "assert set(train_patients).isdisjoint(set(test_patients)), \"Train/test patient sets overlap.\"\n"
   ]
  },
  {
   "cell_type": "code",
   "execution_count": 12,
   "metadata": {},
   "outputs": [
    {
     "data": {
      "text/html": [
       "<div>\n",
       "<style scoped>\n",
       "    .dataframe tbody tr th:only-of-type {\n",
       "        vertical-align: middle;\n",
       "    }\n",
       "\n",
       "    .dataframe tbody tr th {\n",
       "        vertical-align: top;\n",
       "    }\n",
       "\n",
       "    .dataframe thead th {\n",
       "        text-align: right;\n",
       "    }\n",
       "</style>\n",
       "<table border=\"1\" class=\"dataframe\">\n",
       "  <thead>\n",
       "    <tr style=\"text-align: right;\">\n",
       "      <th></th>\n",
       "      <th>image_path</th>\n",
       "      <th>patient_id</th>\n",
       "      <th>label</th>\n",
       "    </tr>\n",
       "  </thead>\n",
       "  <tbody>\n",
       "    <tr>\n",
       "      <th>1</th>\n",
       "      <td>B_mode_ultrasound/189.6 App_M.bmp</td>\n",
       "      <td>189</td>\n",
       "      <td>1.0</td>\n",
       "    </tr>\n",
       "    <tr>\n",
       "      <th>2</th>\n",
       "      <td>B_mode_ultrasound/69.1 App T.bmp</td>\n",
       "      <td>69</td>\n",
       "      <td>1.0</td>\n",
       "    </tr>\n",
       "    <tr>\n",
       "      <th>4</th>\n",
       "      <td>B_mode_ultrasound/168.5 App.bmp</td>\n",
       "      <td>168</td>\n",
       "      <td>1.0</td>\n",
       "    </tr>\n",
       "    <tr>\n",
       "      <th>9</th>\n",
       "      <td>B_mode_ultrasound/947.4 App_M.bmp</td>\n",
       "      <td>947</td>\n",
       "      <td>1.0</td>\n",
       "    </tr>\n",
       "    <tr>\n",
       "      <th>10</th>\n",
       "      <td>B_mode_ultrasound/65.4 App_Color doppler_incre...</td>\n",
       "      <td>65</td>\n",
       "      <td>1.0</td>\n",
       "    </tr>\n",
       "    <tr>\n",
       "      <th>...</th>\n",
       "      <td>...</td>\n",
       "      <td>...</td>\n",
       "      <td>...</td>\n",
       "    </tr>\n",
       "    <tr>\n",
       "      <th>2087</th>\n",
       "      <td>B_mode_ultrasound/111.4 App_M.bmp</td>\n",
       "      <td>111</td>\n",
       "      <td>1.0</td>\n",
       "    </tr>\n",
       "    <tr>\n",
       "      <th>2089</th>\n",
       "      <td>B_mode_ultrasound/927.5 App_M.bmp</td>\n",
       "      <td>927</td>\n",
       "      <td>1.0</td>\n",
       "    </tr>\n",
       "    <tr>\n",
       "      <th>2090</th>\n",
       "      <td>B_mode_ultrasound/9.2 Appendix.bmp</td>\n",
       "      <td>9</td>\n",
       "      <td>1.0</td>\n",
       "    </tr>\n",
       "    <tr>\n",
       "      <th>2093</th>\n",
       "      <td>B_mode_ultrasound/488.3 App_M.bmp</td>\n",
       "      <td>488</td>\n",
       "      <td>1.0</td>\n",
       "    </tr>\n",
       "    <tr>\n",
       "      <th>2094</th>\n",
       "      <td>B_mode_ultrasound/189.1 App.bmp</td>\n",
       "      <td>189</td>\n",
       "      <td>1.0</td>\n",
       "    </tr>\n",
       "  </tbody>\n",
       "</table>\n",
       "<p>1060 rows × 3 columns</p>\n",
       "</div>"
      ],
      "text/plain": [
       "                                             image_path patient_id  label\n",
       "1                     B_mode_ultrasound/189.6 App_M.bmp        189    1.0\n",
       "2                      B_mode_ultrasound/69.1 App T.bmp         69    1.0\n",
       "4                       B_mode_ultrasound/168.5 App.bmp        168    1.0\n",
       "9                     B_mode_ultrasound/947.4 App_M.bmp        947    1.0\n",
       "10    B_mode_ultrasound/65.4 App_Color doppler_incre...         65    1.0\n",
       "...                                                 ...        ...    ...\n",
       "2087                  B_mode_ultrasound/111.4 App_M.bmp        111    1.0\n",
       "2089                  B_mode_ultrasound/927.5 App_M.bmp        927    1.0\n",
       "2090                 B_mode_ultrasound/9.2 Appendix.bmp          9    1.0\n",
       "2093                  B_mode_ultrasound/488.3 App_M.bmp        488    1.0\n",
       "2094                    B_mode_ultrasound/189.1 App.bmp        189    1.0\n",
       "\n",
       "[1060 rows x 3 columns]"
      ]
     },
     "execution_count": 12,
     "metadata": {},
     "output_type": "execute_result"
    }
   ],
   "source": [
    "train_df"
   ]
  },
  {
   "cell_type": "markdown",
   "metadata": {},
   "source": [
    "### Step 2: Set Up Data Generators (TensorFlow/Keras)"
   ]
  },
  {
   "cell_type": "code",
   "execution_count": 13,
   "metadata": {},
   "outputs": [],
   "source": [
    "from tensorflow.keras.preprocessing.image import load_img, img_to_array\n",
    "\n",
    "IMG_SIZE = (224, 224)  # or (128, 128) depending on resolution\n",
    "BATCH_SIZE = 32\n",
    "\n",
    "def preprocess_image(file_path, label):\n",
    "    image = tf.io.read_file(file_path)\n",
    "\n",
    "    # Decode based on file extension\n",
    "    file_ext = tf.strings.split(file_path, '.')[-1]\n",
    "    image = tf.case([\n",
    "        (tf.equal(file_ext, 'bmp'), lambda: tf.image.decode_bmp(image, channels=3)),\n",
    "        (tf.equal(file_ext, 'png'), lambda: tf.image.decode_png(image, channels=3)),\n",
    "    ], default=lambda: tf.image.decode_jpeg(image, channels=3))  # fallback\n",
    "\n",
    "    image = tf.image.resize(image, (224, 224))\n",
    "    image = image / 255.0\n",
    "    return image, label\n",
    "\n",
    "\n",
    "\n",
    "def df_to_dataset(df, shuffle=True):\n",
    "    file_paths = df['image_path'].values\n",
    "    labels = df['label'].values.astype('float32')\n",
    "    ds = tf.data.Dataset.from_tensor_slices((file_paths, labels))\n",
    "    ds = ds.map(preprocess_image, num_parallel_calls=tf.data.experimental.AUTOTUNE)\n",
    "    if shuffle:\n",
    "        ds = ds.shuffle(buffer_size=len(df))\n",
    "    return ds.batch(BATCH_SIZE).prefetch(buffer_size=tf.data.experimental.AUTOTUNE)\n",
    "\n",
    "# Create datasets\n",
    "train_ds = df_to_dataset(train_df)\n",
    "val_ds = df_to_dataset(val_df, shuffle=False)\n"
   ]
  },
  {
   "cell_type": "markdown",
   "metadata": {},
   "source": [
    "### Step 3: Define and Compile a Simple CNN "
   ]
  },
  {
   "cell_type": "code",
   "execution_count": 14,
   "metadata": {},
   "outputs": [],
   "source": [
    "\n",
    "model = models.Sequential([\n",
    "    layers.Input(shape=(224, 224, 3)),\n",
    "    layers.Conv2D(32, 3, activation='relu'),\n",
    "    layers.MaxPooling2D(),\n",
    "    layers.Conv2D(64, 3, activation='relu'),\n",
    "    layers.MaxPooling2D(),\n",
    "    layers.Flatten(),\n",
    "    layers.Dense(64, activation='relu'),\n",
    "    layers.Dense(1, activation='sigmoid')  # Binary classification\n",
    "])\n"
   ]
  },
  {
   "cell_type": "markdown",
   "metadata": {},
   "source": [
    "### Step 4: Train a model"
   ]
  },
  {
   "cell_type": "code",
   "execution_count": 15,
   "metadata": {},
   "outputs": [
    {
     "name": "stdout",
     "output_type": "stream",
     "text": [
      "Train for 34 steps, validate for 9 steps\n",
      "Epoch 1/5\n",
      "34/34 [==============================] - 326s 10s/step - loss: 0.0195 - accuracy: 0.9991 - val_loss: 0.0000e+00 - val_accuracy: 1.0000\n",
      "Epoch 2/5\n",
      "34/34 [==============================] - 324s 10s/step - loss: 0.0000e+00 - accuracy: 1.0000 - val_loss: 0.0000e+00 - val_accuracy: 1.0000\n",
      "Epoch 3/5\n",
      "34/34 [==============================] - 326s 10s/step - loss: 0.0000e+00 - accuracy: 1.0000 - val_loss: 0.0000e+00 - val_accuracy: 1.0000\n",
      "Epoch 4/5\n",
      "34/34 [==============================] - 325s 10s/step - loss: 0.0000e+00 - accuracy: 1.0000 - val_loss: 0.0000e+00 - val_accuracy: 1.0000\n",
      "Epoch 5/5\n",
      "34/34 [==============================] - 325s 10s/step - loss: 0.0000e+00 - accuracy: 1.0000 - val_loss: 0.0000e+00 - val_accuracy: 1.0000\n"
     ]
    }
   ],
   "source": [
    "\n",
    "model.compile(optimizer='adam',\n",
    "              loss='binary_crossentropy',\n",
    "              metrics=['accuracy'])\n",
    "\n",
    "history = model.fit(train_ds, validation_data=val_ds, epochs=5)\n"
   ]
  },
  {
   "cell_type": "markdown",
   "metadata": {},
   "source": [
    "### Step 5: Evaluate and Save"
   ]
  },
  {
   "cell_type": "code",
   "execution_count": 16,
   "metadata": {},
   "outputs": [
    {
     "name": "stdout",
     "output_type": "stream",
     "text": [
      "9/9 [==============================] - 25s 3s/step - loss: 0.0000e+00 - accuracy: 1.0000\n"
     ]
    },
    {
     "data": {
      "text/plain": [
       "[0.0, 1.0]"
      ]
     },
     "execution_count": 16,
     "metadata": {},
     "output_type": "execute_result"
    }
   ],
   "source": [
    "model.evaluate(val_ds)\n",
    "#model.save(\"appendicitis_cnn_model.h5\")"
   ]
  }
 ],
 "metadata": {
  "kernelspec": {
   "display_name": "Python 3",
   "language": "python",
   "name": "python3"
  },
  "language_info": {
   "codemirror_mode": {
    "name": "ipython",
    "version": 3
   },
   "file_extension": ".py",
   "mimetype": "text/x-python",
   "name": "python",
   "nbconvert_exporter": "python",
   "pygments_lexer": "ipython3",
   "version": "3.7.6"
  }
 },
 "nbformat": 4,
 "nbformat_minor": 4
}
